{
 "cells": [
  {
   "cell_type": "markdown",
   "metadata": {},
   "source": [
    "# Дескриптивна статистика\n",
    "\n",
    "##                 Варіант 10\n",
    "\n",
    "\n",
    "### Завдання виконала \n",
    "### студентка 3 курсу статистики \n",
    "### (група комп'ютерна статистика)\n",
    "### механіко-математичного факультету\n",
    "### КНУ ім. Т.Г. Шевченка\n",
    "\n",
    "##           Москанова Ольга"
   ]
  },
  {
   "cell_type": "markdown",
   "metadata": {},
   "source": [
    "# Завдання 1"
   ]
  },
  {
   "cell_type": "markdown",
   "metadata": {},
   "source": [
    "### Дані:\n",
    "\n",
    "Місто | Ахмедабад | Делі | Ченнаї | Колката | Мумбаї | Хайдарабад | Каннур\n",
    "----- | --------- | ---- | ------ | ------- | ------ | ---------- | -----\n",
    "McDonalds | 200.00 | 250.00 | 250.00 | 300.00 | 289.50 | 300.00 | 250.00\n",
    "Молоко 1gln | 195.53 | 187.99 | 178.47 | 151.13 | 205.85 | 185.31 | 151.42\n",
    "\n"
   ]
  },
  {
   "cell_type": "code",
   "execution_count": 1,
   "metadata": {},
   "outputs": [],
   "source": [
    "# initialize data\n",
    "mac_prices  = c(200.,    250.,   250.,   300.,   289.5, 300.,   250)\n",
    "milk_prices = c(195.53, 187.99, 178.47, 151.13, 205.85, 185.31, 151.42)"
   ]
  },
  {
   "cell_type": "markdown",
   "metadata": {},
   "source": [
    "### Обчислити:\n",
    "* вибіркове середнє\n",
    "* середнє геометричне\n",
    "* середнє гармонійне\n",
    "* медіану\n",
    "* середину діапазону\n",
    "* дисперсію\n",
    "* середньоквадратичне відхилення\n",
    "* інтерквартильний розмах\n",
    "* ширину діапазону\n",
    "* коефіцієнт варіації"
   ]
  },
  {
   "cell_type": "markdown",
   "metadata": {},
   "source": [
    "#### Вибіркове середнє\n",
    "\n",
    "$ \\overline{mac prices} = \\frac{200+250*3+289.5+300*2}{7} = 262.7857 $\n",
    "\n",
    "$ \\overline{milk prices} = \\frac{195.53+187.99+178.47+151.13+205.85+185.31+151.42}{7} = 179.3857 $"
   ]
  },
  {
   "cell_type": "code",
   "execution_count": 2,
   "metadata": {},
   "outputs": [
    {
     "data": {
      "text/html": [
       "262.785714285714"
      ],
      "text/latex": [
       "262.785714285714"
      ],
      "text/markdown": [
       "262.785714285714"
      ],
      "text/plain": [
       "[1] 262.7857"
      ]
     },
     "metadata": {},
     "output_type": "display_data"
    },
    {
     "data": {
      "text/html": [
       "179.385714285714"
      ],
      "text/latex": [
       "179.385714285714"
      ],
      "text/markdown": [
       "179.385714285714"
      ],
      "text/plain": [
       "[1] 179.3857"
      ]
     },
     "metadata": {},
     "output_type": "display_data"
    }
   ],
   "source": [
    "# calculate mean\n",
    "\n",
    "mean(mac_prices)\n",
    "mean(milk_prices)"
   ]
  },
  {
   "cell_type": "markdown",
   "metadata": {},
   "source": [
    "#### Середнє геометричне\n",
    "\n",
    "$ GM(macprices) = \\sqrt[7]{200\\cdot 250^3\\cdot 289.5\\cdot 300^2} = 260.5075 $\n",
    "\n",
    "$ GM(milkprices) = \\sqrt[7]{195.53\\cdot 187.99\\cdot 178.47\\cdot 151.13\\cdot 205.85\\cdot 185.31\\cdot 151.42} = 178.2905 $"
   ]
  },
  {
   "cell_type": "code",
   "execution_count": 3,
   "metadata": {},
   "outputs": [
    {
     "data": {
      "text/html": [
       "260.507455546214"
      ],
      "text/latex": [
       "260.507455546214"
      ],
      "text/markdown": [
       "260.507455546214"
      ],
      "text/plain": [
       "[1] 260.5075"
      ]
     },
     "metadata": {},
     "output_type": "display_data"
    },
    {
     "data": {
      "text/html": [
       "178.290476713821"
      ],
      "text/latex": [
       "178.290476713821"
      ],
      "text/markdown": [
       "178.290476713821"
      ],
      "text/plain": [
       "[1] 178.2905"
      ]
     },
     "metadata": {},
     "output_type": "display_data"
    }
   ],
   "source": [
    "# calculate GM\n",
    "\n",
    "exp(mean(log(mac_prices)))\n",
    "exp(mean(log(milk_prices)))"
   ]
  },
  {
   "cell_type": "markdown",
   "metadata": {},
   "source": [
    "#### Середнє гармонійне\n",
    "\n",
    "$ HM(macprices) = \\frac{7}{\\frac{1}{200}+\\frac{3}{250}+\\frac{1}{289.5}+\\frac{2}{300}} = 258.1035 $\n",
    "\n",
    "$ HM(milkprices) = \\frac{7}{\\frac{1}{195.53}+\\frac{1}{187.99}+\\frac{1}{178.47}+\\frac{1}{151.13}+\\frac{1}{205.85}+\\frac{1}{185.31}+\\frac{1}{151.42}} = 177.1607 $"
   ]
  },
  {
   "cell_type": "code",
   "execution_count": 4,
   "metadata": {},
   "outputs": [
    {
     "data": {
      "text/html": [
       "258.103547092912"
      ],
      "text/latex": [
       "258.103547092912"
      ],
      "text/markdown": [
       "258.103547092912"
      ],
      "text/plain": [
       "[1] 258.1035"
      ]
     },
     "metadata": {},
     "output_type": "display_data"
    },
    {
     "data": {
      "text/html": [
       "177.160670774133"
      ],
      "text/latex": [
       "177.160670774133"
      ],
      "text/markdown": [
       "177.160670774133"
      ],
      "text/plain": [
       "[1] 177.1607"
      ]
     },
     "metadata": {},
     "output_type": "display_data"
    }
   ],
   "source": [
    "# calculate HM\n",
    "\n",
    "length(mac_prices)/sum(1/mac_prices)\n",
    "length(milk_prices)/sum(1/milk_prices)"
   ]
  },
  {
   "cell_type": "markdown",
   "metadata": {},
   "source": [
    "#### Ранжирований ряд:\n",
    "\n",
    "range    |   1   |   2   |   3   |  4  |   5   |   6   |   7\n",
    "---------- | ----- | ----- | ----- | --- | ----- | ----- | -----\n",
    "mac_prices | 200.0 | 250.0 | 250.0 | 250 | 289.5 | 300.0 | 300.0\n",
    "milk_prices| 151.13 | 151.42 | 178.47 | 185.31 | 187.99 | 195.53 | 205.85"
   ]
  },
  {
   "cell_type": "code",
   "execution_count": 5,
   "metadata": {},
   "outputs": [],
   "source": [
    "# get sorted range\n",
    "\n",
    "mac_prices_sorted  = sort(mac_prices)\n",
    "milk_prices_sorted = sort(milk_prices)"
   ]
  },
  {
   "cell_type": "markdown",
   "metadata": {},
   "source": [
    "#### Медіана\n",
    "\n",
    "med(mac_prices)  = 250\n",
    "\n",
    "med(milk_prices) = 185.31"
   ]
  },
  {
   "cell_type": "code",
   "execution_count": 6,
   "metadata": {},
   "outputs": [
    {
     "data": {
      "text/html": [
       "250"
      ],
      "text/latex": [
       "250"
      ],
      "text/markdown": [
       "250"
      ],
      "text/plain": [
       "[1] 250"
      ]
     },
     "metadata": {},
     "output_type": "display_data"
    },
    {
     "data": {
      "text/html": [
       "185.31"
      ],
      "text/latex": [
       "185.31"
      ],
      "text/markdown": [
       "185.31"
      ],
      "text/plain": [
       "[1] 185.31"
      ]
     },
     "metadata": {},
     "output_type": "display_data"
    }
   ],
   "source": [
    "# calculate median\n",
    "\n",
    "median(mac_prices_sorted)\n",
    "median(milk_prices_sorted)"
   ]
  },
  {
   "cell_type": "markdown",
   "metadata": {},
   "source": [
    "#### Середина діапазону\n",
    "\n",
    "Вибірка | Середина діапазону\n",
    "------- | ------------------\n",
    "mac_prices | 250\n",
    "milk_prices | 178.49"
   ]
  },
  {
   "cell_type": "code",
   "execution_count": 7,
   "metadata": {},
   "outputs": [
    {
     "data": {
      "text/html": [
       "250"
      ],
      "text/latex": [
       "250"
      ],
      "text/markdown": [
       "250"
      ],
      "text/plain": [
       "[1] 250"
      ]
     },
     "metadata": {},
     "output_type": "display_data"
    },
    {
     "data": {
      "text/html": [
       "178.49"
      ],
      "text/latex": [
       "178.49"
      ],
      "text/markdown": [
       "178.49"
      ],
      "text/plain": [
       "[1] 178.49"
      ]
     },
     "metadata": {},
     "output_type": "display_data"
    }
   ],
   "source": [
    "# calculate midrange\n",
    "\n",
    "(max(mac_prices)+min(mac_prices))/2\n",
    "(max(milk_prices)+min(milk_prices))/2"
   ]
  },
  {
   "cell_type": "markdown",
   "metadata": {},
   "source": [
    "#### Дисперсія\n",
    "\n",
    "##### Вибіркова дисперсія:\n",
    "\n",
    "$ S^2(mac prices) = \\frac{(200-262.7857)^2+3*(250-262.7857)^2+(289.5-262.7857)^2+2*(300-262.7857)^2}{7} = 1130.847 $\n",
    "\n",
    "$ S^2(milk prices) = \\frac{(151.13-179.3857)^2+(151.42-179.3857)^2+(178.47-179.3857)^2+(185.31-179.3857)^2+(187.99-179.3857)^2+(195.53-179.3857)^2+(205.85-179.3857)^2}{7} = 378.7761 $\n",
    "\n",
    "##### Виправлена дисперсія:\n",
    "\n",
    "$ S_0^2(mac prices) = \\frac{(200-262.7857)^2+3*(250-262.7857)^2+(289.5-262.7857)^2+2*(300-262.7857)^2}{6} = 1319.321 $\n",
    "\n",
    "$ S^2(milk prices) = \\frac{(151.13-179.3857)^2+(151.42-179.3857)^2+(178.47-179.3857)^2+(185.31-179.3857)^2+(187.99-179.3857)^2+(195.53-179.3857)^2+(205.85-179.3857)^2}{6} = 441.9054 $"
   ]
  },
  {
   "cell_type": "code",
   "execution_count": 8,
   "metadata": {},
   "outputs": [
    {
     "data": {
      "text/html": [
       "1319.32142857143"
      ],
      "text/latex": [
       "1319.32142857143"
      ],
      "text/markdown": [
       "1319.32142857143"
      ],
      "text/plain": [
       "[1] 1319.321"
      ]
     },
     "metadata": {},
     "output_type": "display_data"
    },
    {
     "data": {
      "text/html": [
       "441.905395238095"
      ],
      "text/latex": [
       "441.905395238095"
      ],
      "text/markdown": [
       "441.905395238095"
      ],
      "text/plain": [
       "[1] 441.9054"
      ]
     },
     "metadata": {},
     "output_type": "display_data"
    }
   ],
   "source": [
    "# calculate variance\n",
    "\n",
    "var(mac_prices)\n",
    "var(milk_prices)"
   ]
  },
  {
   "cell_type": "markdown",
   "metadata": {},
   "source": [
    "#### Середньоквадратичне відхилення\n",
    "\n",
    "##### Відхилення:\n",
    "\n",
    "$ S(macprices) = \\sqrt{1130.847} = 33.62807 $\n",
    "\n",
    "$ S(milkprices) = \\sqrt{378.7761} = 19.46217 $\n",
    "\n",
    "##### Виправлене відхилення:\n",
    "\n",
    "$ S_0(macprices) = \\sqrt{1319.321} = 36.32246 $\n",
    "\n",
    "$ S_0(milkprices) = \\sqrt{378.7761} = 21.02155 $"
   ]
  },
  {
   "cell_type": "code",
   "execution_count": 9,
   "metadata": {},
   "outputs": [
    {
     "data": {
      "text/html": [
       "36.3224645167619"
      ],
      "text/latex": [
       "36.3224645167619"
      ],
      "text/markdown": [
       "36.3224645167619"
      ],
      "text/plain": [
       "[1] 36.32246"
      ]
     },
     "metadata": {},
     "output_type": "display_data"
    },
    {
     "data": {
      "text/html": [
       "21.0215459764047"
      ],
      "text/latex": [
       "21.0215459764047"
      ],
      "text/markdown": [
       "21.0215459764047"
      ],
      "text/plain": [
       "[1] 21.02155"
      ]
     },
     "metadata": {},
     "output_type": "display_data"
    }
   ],
   "source": [
    "# calculate standard deviation\n",
    "\n",
    "sd_mac  = var(mac_prices) ^0.5\n",
    "sd_milk = var(milk_prices)^0.5\n",
    "\n",
    "sd_mac\n",
    "sd_milk"
   ]
  },
  {
   "cell_type": "markdown",
   "metadata": {},
   "source": [
    "### IQR\n",
    "\n",
    "\n",
    "range    |   1   |   2   |   3   |  4  |   5   |   6   |   7\n",
    "---------- | ----- | ----- | ----- | --- | ----- | ----- | -----\n",
    "mac_prices | 200.0 | __250.0__ | 250.0 | __250__ | 289.5 | __300.0__ | 300.0\n",
    "milk_prices| 151.13 | __151.42__ | 178.47 | __185.31__ | 187.99 | __195.53__ | 205.85\n",
    "\n",
    "IQR(mac_prices) = 300 - 250 = 50\n",
    "\n",
    "IQR(milk_prices) = 195.53 - 151.42 = 44.11\n",
    "\n",
    "##### З урахуванням медіани:\n",
    "\n",
    "IQR(mac_prices) = $ \\frac{300+289.5}{2} - 250  = 44.75 $\n",
    "\n",
    "IQR(milk_prices) = $ \\frac{195.53 + 187.99}{2} - \\frac{151.42 + 178.47}{2} = 26.815 $"
   ]
  },
  {
   "cell_type": "code",
   "execution_count": 10,
   "metadata": {},
   "outputs": [
    {
     "data": {
      "text/html": [
       "44.75"
      ],
      "text/latex": [
       "44.75"
      ],
      "text/markdown": [
       "44.75"
      ],
      "text/plain": [
       "[1] 44.75"
      ]
     },
     "metadata": {},
     "output_type": "display_data"
    },
    {
     "data": {
      "text/html": [
       "26.815"
      ],
      "text/latex": [
       "26.815"
      ],
      "text/markdown": [
       "26.815"
      ],
      "text/plain": [
       "[1] 26.815"
      ]
     },
     "metadata": {},
     "output_type": "display_data"
    }
   ],
   "source": [
    "# calculate IQR\n",
    "\n",
    "IQR(mac_prices_sorted)\n",
    "IQR(milk_prices_sorted)"
   ]
  },
  {
   "cell_type": "markdown",
   "metadata": {},
   "source": [
    "#### Ширина діапазону\n",
    "\n",
    "Вибірка | Ширина діапазону\n",
    "------- | ------------------\n",
    "mac_prices | 100\n",
    "milk_prices | 54.72"
   ]
  },
  {
   "cell_type": "code",
   "execution_count": 11,
   "metadata": {},
   "outputs": [
    {
     "data": {
      "text/html": [
       "100"
      ],
      "text/latex": [
       "100"
      ],
      "text/markdown": [
       "100"
      ],
      "text/plain": [
       "[1] 100"
      ]
     },
     "metadata": {},
     "output_type": "display_data"
    },
    {
     "data": {
      "text/html": [
       "54.72"
      ],
      "text/latex": [
       "54.72"
      ],
      "text/markdown": [
       "54.72"
      ],
      "text/plain": [
       "[1] 54.72"
      ]
     },
     "metadata": {},
     "output_type": "display_data"
    }
   ],
   "source": [
    "# calculate range width\n",
    "\n",
    "(max(mac_prices)-min(mac_prices))\n",
    "(max(milk_prices)-min(milk_prices))"
   ]
  },
  {
   "cell_type": "markdown",
   "metadata": {},
   "source": [
    "#### Variation coefficient\n",
    "\n",
    "$ CV(mac prices) = \\frac{S(mac prices)}{\\overline{mac prices}} = \\frac{33.62807}{262.7857} = 0.1279677 $\n",
    "\n",
    "$ CV(milk prices) = \\frac{S(milk prices)}{\\overline{mac prices}} = \\frac{19.46217}{179.3857} = 0.1084934 $\n",
    "\n",
    "##### З виправленим відхиленням:\n",
    "\n",
    "$ CV_0(mac prices) = \\frac{S_0(mac_prices)}{\\overline{mac prices}} = \\frac{36.32246}{262.7857} = 0.1382208 $\n",
    "\n",
    "$ CV_0(milk prices) = \\frac{S_0(milk_prices)}{\\overline{mac prices}} = \\frac{21.02155}{179.3857} = 0.1171863 $"
   ]
  },
  {
   "cell_type": "code",
   "execution_count": 12,
   "metadata": {},
   "outputs": [
    {
     "data": {
      "text/html": [
       "0.138220848935762"
      ],
      "text/latex": [
       "0.138220848935762"
      ],
      "text/markdown": [
       "0.138220848935762"
      ],
      "text/plain": [
       "[1] 0.1382208"
      ]
     },
     "metadata": {},
     "output_type": "display_data"
    },
    {
     "data": {
      "text/html": [
       "0.117186287994611"
      ],
      "text/latex": [
       "0.117186287994611"
      ],
      "text/markdown": [
       "0.117186287994611"
      ],
      "text/plain": [
       "[1] 0.1171863"
      ]
     },
     "metadata": {},
     "output_type": "display_data"
    }
   ],
   "source": [
    "# calculate relative standard deviation (RSD) (CV)\n",
    "\n",
    "sd_mac/mean(mac_prices)\n",
    "sd_milk/mean(milk_prices)"
   ]
  },
  {
   "cell_type": "markdown",
   "metadata": {},
   "source": [
    "### Висновки\n",
    "\n",
    "* R рахує виправлені характеристики\n",
    "* Вручну рахувати довго і неприємно\n",
    "* Дуже хочеться попрацювати з датасетами в форматі .csv, а не власноруч копіпащеними, готова парсери писати :)\n",
    "* Чекаю на інструменти візуалізації, без них нині важко\n",
    "\n",
    "* Загалом R на мій перший погляд не сильно відрізняється від наукових пакетів Python 3"
   ]
  },
  {
   "cell_type": "code",
   "execution_count": null,
   "metadata": {},
   "outputs": [],
   "source": []
  }
 ],
 "metadata": {
  "kernelspec": {
   "display_name": "R",
   "language": "R",
   "name": "ir"
  },
  "language_info": {
   "codemirror_mode": "r",
   "file_extension": ".r",
   "mimetype": "text/x-r-source",
   "name": "R",
   "pygments_lexer": "r",
   "version": "3.6.1"
  }
 },
 "nbformat": 4,
 "nbformat_minor": 2
}
